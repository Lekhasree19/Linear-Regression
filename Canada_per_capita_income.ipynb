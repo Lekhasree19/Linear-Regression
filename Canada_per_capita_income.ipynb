{
  "nbformat": 4,
  "nbformat_minor": 0,
  "metadata": {
    "colab": {
      "name": "Canada per capita income.ipynb ",
      "provenance": [],
      "authorship_tag": "ABX9TyOfx854BkJ2rCk/hEHGnYKG",
      "include_colab_link": true
    },
    "kernelspec": {
      "name": "python3",
      "display_name": "Python 3"
    },
    "language_info": {
      "name": "python"
    }
  },
  "cells": [
    {
      "cell_type": "markdown",
      "metadata": {
        "id": "view-in-github",
        "colab_type": "text"
      },
      "source": [
        "<a href=\"https://colab.research.google.com/github/Lekhasree19/Linear-Regression/blob/main/Canada_per_capita_income.ipynb\" target=\"_parent\"><img src=\"https://colab.research.google.com/assets/colab-badge.svg\" alt=\"Open In Colab\"/></a>"
      ]
    },
    {
      "cell_type": "code",
      "metadata": {
        "id": "V4CPqMzIbCtM"
      },
      "source": [
        "# This Python 3 environment comes with many helpful analytics libraries installed\n",
        "# It is defined by the kaggle/python Docker image: https://github.com/kaggle/docker-python\n",
        "# For example, here's several helpful packages to load\n",
        "\n",
        "import numpy as np # linear algebra\n",
        "import pandas as pd # data processing, CSV file I/O (e.g. pd.read_csv)\n",
        "\n",
        "# Input data files are available in the read-only \"../input/\" directory\n",
        "# For example, running this (by clicking run or pressing Shift+Enter) will list all files under the input directory\n",
        "\n",
        "import os\n",
        "for dirname, _, filenames in os.walk('/kaggle/input'):\n",
        "    for filename in filenames:\n",
        "        print(os.path.join(dirname, filename))\n",
        "\n",
        "# You can write up to 20GB to the current directory (/kaggle/working/) that gets preserved as output when you create a version using \"Save & Run All\" \n",
        "# You can also write temporary files to /kaggle/temp/, but they won't be saved outside of the current session"
      ],
      "execution_count": 1,
      "outputs": []
    },
    {
      "cell_type": "code",
      "metadata": {
        "id": "oTl1KXI-oB9w"
      },
      "source": [
        "# My first analysis in kaggle using linear regression\n",
        "# I thought of creating a descriptive analysis, so i can practice to write more understable code.\n",
        "# since I am new to this, suggestions are welcomed :)"
      ],
      "execution_count": 2,
      "outputs": []
    },
    {
      "cell_type": "code",
      "metadata": {
        "colab": {
          "base_uri": "https://localhost:8080/",
          "height": 203
        },
        "id": "oPMb_sfpoh9f",
        "outputId": "980b3133-2006-496c-ec69-3babf86d6d9f"
      },
      "source": [
        "# first thing first!, importing data\n",
        "df = pd.read_csv(\"canada_per_capita_income.csv\")\n",
        "df.head() # What's inside df?"
      ],
      "execution_count": 6,
      "outputs": [
        {
          "output_type": "execute_result",
          "data": {
            "text/html": [
              "<div>\n",
              "<style scoped>\n",
              "    .dataframe tbody tr th:only-of-type {\n",
              "        vertical-align: middle;\n",
              "    }\n",
              "\n",
              "    .dataframe tbody tr th {\n",
              "        vertical-align: top;\n",
              "    }\n",
              "\n",
              "    .dataframe thead th {\n",
              "        text-align: right;\n",
              "    }\n",
              "</style>\n",
              "<table border=\"1\" class=\"dataframe\">\n",
              "  <thead>\n",
              "    <tr style=\"text-align: right;\">\n",
              "      <th></th>\n",
              "      <th>year</th>\n",
              "      <th>per capita income (US$)</th>\n",
              "    </tr>\n",
              "  </thead>\n",
              "  <tbody>\n",
              "    <tr>\n",
              "      <th>0</th>\n",
              "      <td>1970</td>\n",
              "      <td>3399.299037</td>\n",
              "    </tr>\n",
              "    <tr>\n",
              "      <th>1</th>\n",
              "      <td>1971</td>\n",
              "      <td>3768.297935</td>\n",
              "    </tr>\n",
              "    <tr>\n",
              "      <th>2</th>\n",
              "      <td>1972</td>\n",
              "      <td>4251.175484</td>\n",
              "    </tr>\n",
              "    <tr>\n",
              "      <th>3</th>\n",
              "      <td>1973</td>\n",
              "      <td>4804.463248</td>\n",
              "    </tr>\n",
              "    <tr>\n",
              "      <th>4</th>\n",
              "      <td>1974</td>\n",
              "      <td>5576.514583</td>\n",
              "    </tr>\n",
              "  </tbody>\n",
              "</table>\n",
              "</div>"
            ],
            "text/plain": [
              "   year  per capita income (US$)\n",
              "0  1970              3399.299037\n",
              "1  1971              3768.297935\n",
              "2  1972              4251.175484\n",
              "3  1973              4804.463248\n",
              "4  1974              5576.514583"
            ]
          },
          "metadata": {},
          "execution_count": 6
        }
      ]
    },
    {
      "cell_type": "code",
      "metadata": {
        "colab": {
          "base_uri": "https://localhost:8080/"
        },
        "id": "RCpBDuTdpVco",
        "outputId": "7b44f5df-daca-4619-f5c9-9fa17235441e"
      },
      "source": [
        "df.shape # self explanatory --> result > (rows, cols)"
      ],
      "execution_count": 7,
      "outputs": [
        {
          "output_type": "execute_result",
          "data": {
            "text/plain": [
              "(47, 2)"
            ]
          },
          "metadata": {},
          "execution_count": 7
        }
      ]
    },
    {
      "cell_type": "code",
      "metadata": {
        "colab": {
          "base_uri": "https://localhost:8080/"
        },
        "id": "nmjmnWs0pfBV",
        "outputId": "64e61182-7d35-423d-89ea-23392d9d1e0c"
      },
      "source": [
        "df.info() # Does df contain null values? if not what's the data type stored in each cols?"
      ],
      "execution_count": 8,
      "outputs": [
        {
          "output_type": "stream",
          "name": "stdout",
          "text": [
            "<class 'pandas.core.frame.DataFrame'>\n",
            "RangeIndex: 47 entries, 0 to 46\n",
            "Data columns (total 2 columns):\n",
            " #   Column                   Non-Null Count  Dtype  \n",
            "---  ------                   --------------  -----  \n",
            " 0   year                     47 non-null     int64  \n",
            " 1   per capita income (US$)  47 non-null     float64\n",
            "dtypes: float64(1), int64(1)\n",
            "memory usage: 880.0 bytes\n"
          ]
        }
      ]
    },
    {
      "cell_type": "code",
      "metadata": {
        "colab": {
          "base_uri": "https://localhost:8080/",
          "height": 295
        },
        "id": "JsdsE34SpjZ5",
        "outputId": "7f90c648-d1de-4938-9939-674d75f0536b"
      },
      "source": [
        "df.describe() # Some stats"
      ],
      "execution_count": 9,
      "outputs": [
        {
          "output_type": "execute_result",
          "data": {
            "text/html": [
              "<div>\n",
              "<style scoped>\n",
              "    .dataframe tbody tr th:only-of-type {\n",
              "        vertical-align: middle;\n",
              "    }\n",
              "\n",
              "    .dataframe tbody tr th {\n",
              "        vertical-align: top;\n",
              "    }\n",
              "\n",
              "    .dataframe thead th {\n",
              "        text-align: right;\n",
              "    }\n",
              "</style>\n",
              "<table border=\"1\" class=\"dataframe\">\n",
              "  <thead>\n",
              "    <tr style=\"text-align: right;\">\n",
              "      <th></th>\n",
              "      <th>year</th>\n",
              "      <th>per capita income (US$)</th>\n",
              "    </tr>\n",
              "  </thead>\n",
              "  <tbody>\n",
              "    <tr>\n",
              "      <th>count</th>\n",
              "      <td>47.000000</td>\n",
              "      <td>47.000000</td>\n",
              "    </tr>\n",
              "    <tr>\n",
              "      <th>mean</th>\n",
              "      <td>1993.000000</td>\n",
              "      <td>18920.137063</td>\n",
              "    </tr>\n",
              "    <tr>\n",
              "      <th>std</th>\n",
              "      <td>13.711309</td>\n",
              "      <td>12034.679438</td>\n",
              "    </tr>\n",
              "    <tr>\n",
              "      <th>min</th>\n",
              "      <td>1970.000000</td>\n",
              "      <td>3399.299037</td>\n",
              "    </tr>\n",
              "    <tr>\n",
              "      <th>25%</th>\n",
              "      <td>1981.500000</td>\n",
              "      <td>9526.914515</td>\n",
              "    </tr>\n",
              "    <tr>\n",
              "      <th>50%</th>\n",
              "      <td>1993.000000</td>\n",
              "      <td>16426.725480</td>\n",
              "    </tr>\n",
              "    <tr>\n",
              "      <th>75%</th>\n",
              "      <td>2004.500000</td>\n",
              "      <td>27458.601420</td>\n",
              "    </tr>\n",
              "    <tr>\n",
              "      <th>max</th>\n",
              "      <td>2016.000000</td>\n",
              "      <td>42676.468370</td>\n",
              "    </tr>\n",
              "  </tbody>\n",
              "</table>\n",
              "</div>"
            ],
            "text/plain": [
              "              year  per capita income (US$)\n",
              "count    47.000000                47.000000\n",
              "mean   1993.000000             18920.137063\n",
              "std      13.711309             12034.679438\n",
              "min    1970.000000              3399.299037\n",
              "25%    1981.500000              9526.914515\n",
              "50%    1993.000000             16426.725480\n",
              "75%    2004.500000             27458.601420\n",
              "max    2016.000000             42676.468370"
            ]
          },
          "metadata": {},
          "execution_count": 9
        }
      ]
    },
    {
      "cell_type": "code",
      "metadata": {
        "colab": {
          "base_uri": "https://localhost:8080/",
          "height": 296
        },
        "id": "VmPbRVYlpqTt",
        "outputId": "27d9e2c3-11e2-4446-e4d6-49208837ea50"
      },
      "source": [
        "# plot! \n",
        "import matplotlib.pyplot as plt \n",
        "\n",
        "plt.scatter(df[\"year\"], df[\"per capita income (US$)\"], color=\"b\")\n",
        "plt.xlabel(\"year\")\n",
        "plt.ylabel(\"income (US$)\")"
      ],
      "execution_count": 10,
      "outputs": [
        {
          "output_type": "execute_result",
          "data": {
            "text/plain": [
              "Text(0, 0.5, 'income (US$)')"
            ]
          },
          "metadata": {},
          "execution_count": 10
        },
        {
          "output_type": "display_data",
          "data": {
            "image/png": "[encoded data removed]",
            "text/plain": [
              "<Figure size 432x288 with 1 Axes>"
            ]
          },
          "metadata": {
            "needs_background": "light"
          }
        }
      ]
    },
    {
      "cell_type": "code",
      "metadata": {
        "id": "--29HA0jps4p"
      },
      "source": [
        "# objective - to find perfect slope\n",
        "# slope formula -> y = m*x + c  (y - dependant variable, x - independant variable) \n",
        "# so what's x and y in our df?\n",
        "# since per capita income depends on the year, (income - dependent on year, year - independant)\n",
        "# therefore x -> year, y -> per capita income\n",
        "\n",
        "x = df[[\"year\"]].values\n",
        "# ^ best approch df.iloc[:, 0:1] but i find this to be more descriptive ;) and there is only two cols.\n",
        "# using [[\"year\"]] because we need 2-d array for our model's function since it requires independant variable.\n",
        "\n",
        "y = df[\"per capita income (US$)\"].values\n",
        "# ^ best approch df.iloc[:, -1]\n",
        "# since income is dependant, no need of converting it into 2-d"
      ],
      "execution_count": 11,
      "outputs": []
    },
    {
      "cell_type": "code",
      "metadata": {
        "colab": {
          "base_uri": "https://localhost:8080/"
        },
        "id": "JMFh1DT6pyec",
        "outputId": "cda45631-4e93-4c1a-c393-73521aa908b9"
      },
      "source": [
        "# time for linear regression\n",
        "from sklearn.linear_model import LinearRegression\n",
        "\n",
        "lr = LinearRegression() # instantiate object that can access methods/func from LinearRegression() class \n",
        "lr.fit(x, y)            # using fit function from LinearRegression() class using our lr object to fit variables(x,y)"
      ],
      "execution_count": 12,
      "outputs": [
        {
          "output_type": "execute_result",
          "data": {
            "text/plain": [
              "LinearRegression(copy_X=True, fit_intercept=True, n_jobs=None, normalize=False)"
            ]
          },
          "metadata": {},
          "execution_count": 12
        }
      ]
    },
    {
      "cell_type": "code",
      "metadata": {
        "colab": {
          "base_uri": "https://localhost:8080/"
        },
        "id": "WWltcuu8p7B7",
        "outputId": "91a0fcf0-bcb4-4b35-dc89-ab500428d147"
      },
      "source": [
        "# hmm. model trained, Let's find slope using formula and with help of our lr model\n",
        "\n",
        "m = lr.coef_      # to find co-efficient of x (i.e: m)\n",
        "c = lr.intercept_ # to find intercept c\n",
        "\n",
        "y = m*x + c\n",
        "y   # and thats how we found our slope"
      ],
      "execution_count": 13,
      "outputs": [
        {
          "output_type": "execute_result",
          "data": {
            "text/plain": [
              "array([[ -134.55966672],\n",
              "       [  693.9054085 ],\n",
              "       [ 1522.37048373],\n",
              "       [ 2350.83555895],\n",
              "       [ 3179.30063417],\n",
              "       [ 4007.7657094 ],\n",
              "       [ 4836.23078462],\n",
              "       [ 5664.69585984],\n",
              "       [ 6493.16093506],\n",
              "       [ 7321.62601029],\n",
              "       [ 8150.09108551],\n",
              "       [ 8978.55616073],\n",
              "       [ 9807.02123595],\n",
              "       [10635.48631118],\n",
              "       [11463.9513864 ],\n",
              "       [12292.41646162],\n",
              "       [13120.88153685],\n",
              "       [13949.34661207],\n",
              "       [14777.81168729],\n",
              "       [15606.27676251],\n",
              "       [16434.74183774],\n",
              "       [17263.20691296],\n",
              "       [18091.67198818],\n",
              "       [18920.1370634 ],\n",
              "       [19748.60213863],\n",
              "       [20577.06721385],\n",
              "       [21405.53228907],\n",
              "       [22233.9973643 ],\n",
              "       [23062.46243952],\n",
              "       [23890.92751474],\n",
              "       [24719.39258996],\n",
              "       [25547.85766519],\n",
              "       [26376.32274041],\n",
              "       [27204.78781563],\n",
              "       [28033.25289085],\n",
              "       [28861.71796608],\n",
              "       [29690.1830413 ],\n",
              "       [30518.64811652],\n",
              "       [31347.11319175],\n",
              "       [32175.57826697],\n",
              "       [33004.04334219],\n",
              "       [33832.50841741],\n",
              "       [34660.97349264],\n",
              "       [35489.43856786],\n",
              "       [36317.90364308],\n",
              "       [37146.3687183 ],\n",
              "       [37974.83379353]])"
            ]
          },
          "metadata": {},
          "execution_count": 13
        }
      ]
    },
    {
      "cell_type": "code",
      "metadata": {
        "colab": {
          "base_uri": "https://localhost:8080/",
          "height": 296
        },
        "id": "RE6VaWx3p-Qh",
        "outputId": "e68547a1-2e41-4d64-b933-9322235df5e8"
      },
      "source": [
        "# where is the slope passin thro?\n",
        "x = df[[\"year\"]]\n",
        "y = df[\"per capita income (US$)\"]\n",
        "plt.scatter(x, y, color=\"b\")\n",
        "plt.plot(x, lr.predict(x), color=\"r\")\n",
        "plt.xlabel(\"year\")\n",
        "plt.ylabel(\"income (US$)\")"
      ],
      "execution_count": 14,
      "outputs": [
        {
          "output_type": "execute_result",
          "data": {
            "text/plain": [
              "Text(0, 0.5, 'income (US$)')"
            ]
          },
          "metadata": {},
          "execution_count": 14
        },
        {
          "output_type": "display_data",
          "data": {
            "image/png": "[encoded data removed]",
            "text/plain": [
              "<Figure size 432x288 with 1 Axes>"
            ]
          },
          "metadata": {
            "needs_background": "light"
          }
        }
      ]
    },
    {
      "cell_type": "code",
      "metadata": {
        "colab": {
          "base_uri": "https://localhost:8080/"
        },
        "id": "zQ7MxNJnqDFS",
        "outputId": "ca8f8486-790f-4dfc-d6f0-d960e4faf8e6"
      },
      "source": [
        "# predicting per capita income for 2020\n",
        "\n",
        "lr.predict([[2020]])  # pretty straightforward, right? using predict function and passing our input as 2-d array.\n",
        "# and that's how its done! "
      ],
      "execution_count": 15,
      "outputs": [
        {
          "output_type": "execute_result",
          "data": {
            "text/plain": [
              "array([41288.69409442])"
            ]
          },
          "metadata": {},
          "execution_count": 15
        }
      ]
    },
    {
      "cell_type": "code",
      "metadata": {
        "colab": {
          "base_uri": "https://localhost:8080/",
          "height": 296
        },
        "id": "gJr-dduDqHXl",
        "outputId": "8cdaad33-fd4a-4103-c938-af4fe3ade858"
      },
      "source": [
        "# all in one plot\n",
        "\n",
        "y_prediction = lr.predict(x)  # prediction for df[\"years\"] by lr model\n",
        "\n",
        "plt.scatter(x, y, color=\"aqua\")  # plotting Actual df\n",
        "plt.scatter([[2020]], lr.predict([[2020]]), color=\"g\", marker=\"^\") # plotting Predicted Price\n",
        "plt.plot(x, y_prediction, color=\"r\") # plotting slope\n",
        "plt.xlabel(\"year\")\n",
        "plt.ylabel(\"income (US$)\")"
      ],
      "execution_count": 16,
      "outputs": [
        {
          "output_type": "execute_result",
          "data": {
            "text/plain": [
              "Text(0, 0.5, 'income (US$)')"
            ]
          },
          "metadata": {},
          "execution_count": 16
        },
        {
          "output_type": "display_data",
          "data": {
            "image/png": "[encoded data removed]",
            "text/plain": [
              "<Figure size 432x288 with 1 Axes>"
            ]
          },
          "metadata": {
            "needs_background": "light"
          }
        }
      ]
    },
    {
      "cell_type": "code",
      "metadata": {
        "id": "zJmrReCpqLt3"
      },
      "source": [
        "# tesing with new inputs\n",
        "# creating new df -> test_df\n",
        "\n",
        "test_df = pd.DataFrame({\n",
        "    \"test_yr\": [2021, 2022, 2023, 2025, 2026]\n",
        "})"
      ],
      "execution_count": 17,
      "outputs": []
    },
    {
      "cell_type": "code",
      "metadata": {
        "colab": {
          "base_uri": "https://localhost:8080/",
          "height": 203
        },
        "id": "zqKedK-fqPSm",
        "outputId": "3b8cf664-2c57-4c6e-f5d7-9cf646473553"
      },
      "source": [
        "# Predict income for upcoming years\n",
        "\n",
        "test_df[\"pred_income\"] = lr.predict(test_df[[\"test_yr\"]]) # creating new col and storing predictions\n",
        "test_df"
      ],
      "execution_count": 18,
      "outputs": [
        {
          "output_type": "execute_result",
          "data": {
            "text/html": [
              "<div>\n",
              "<style scoped>\n",
              "    .dataframe tbody tr th:only-of-type {\n",
              "        vertical-align: middle;\n",
              "    }\n",
              "\n",
              "    .dataframe tbody tr th {\n",
              "        vertical-align: top;\n",
              "    }\n",
              "\n",
              "    .dataframe thead th {\n",
              "        text-align: right;\n",
              "    }\n",
              "</style>\n",
              "<table border=\"1\" class=\"dataframe\">\n",
              "  <thead>\n",
              "    <tr style=\"text-align: right;\">\n",
              "      <th></th>\n",
              "      <th>test_yr</th>\n",
              "      <th>pred_income</th>\n",
              "    </tr>\n",
              "  </thead>\n",
              "  <tbody>\n",
              "    <tr>\n",
              "      <th>0</th>\n",
              "      <td>2021</td>\n",
              "      <td>42117.159170</td>\n",
              "    </tr>\n",
              "    <tr>\n",
              "      <th>1</th>\n",
              "      <td>2022</td>\n",
              "      <td>42945.624245</td>\n",
              "    </tr>\n",
              "    <tr>\n",
              "      <th>2</th>\n",
              "      <td>2023</td>\n",
              "      <td>43774.089320</td>\n",
              "    </tr>\n",
              "    <tr>\n",
              "      <th>3</th>\n",
              "      <td>2025</td>\n",
              "      <td>45431.019471</td>\n",
              "    </tr>\n",
              "    <tr>\n",
              "      <th>4</th>\n",
              "      <td>2026</td>\n",
              "      <td>46259.484546</td>\n",
              "    </tr>\n",
              "  </tbody>\n",
              "</table>\n",
              "</div>"
            ],
            "text/plain": [
              "   test_yr   pred_income\n",
              "0     2021  42117.159170\n",
              "1     2022  42945.624245\n",
              "2     2023  43774.089320\n",
              "3     2025  45431.019471\n",
              "4     2026  46259.484546"
            ]
          },
          "metadata": {},
          "execution_count": 18
        }
      ]
    },
    {
      "cell_type": "code",
      "metadata": {
        "id": "EdUDubyVqT8T"
      },
      "source": [
        ""
      ],
      "execution_count": null,
      "outputs": []
    }
  ]
}